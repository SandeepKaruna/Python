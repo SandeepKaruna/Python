{
 "cells": [
  {
   "cell_type": "code",
   "execution_count": 1,
   "metadata": {},
   "outputs": [],
   "source": [
    "class Subfields():\n",
    "    def subfield():\n",
    "         print(\"Subfileds in AI are:\\nMachine Learning\\nNeural Networks\\nVision\\nRobotics\\nSpeech Processing\\nNatural Language Processing\")\n"
   ]
  },
  {
   "cell_type": "code",
   "execution_count": 4,
   "metadata": {},
   "outputs": [
    {
     "name": "stdout",
     "output_type": "stream",
     "text": [
      "Subfileds in AI are:\n",
      "Machine Learning\n",
      "Neural Networks\n",
      "Vision\n",
      "Robotics\n",
      "Speech Processing\n",
      "Natural Language Processing\n"
     ]
    }
   ],
   "source": [
    "Subfields.subfield()"
   ]
  },
  {
   "cell_type": "code",
   "execution_count": 6,
   "metadata": {},
   "outputs": [],
   "source": [
    "class ODDEVEN():\n",
    "    def OddEven():\n",
    "        i=int(input(\"Enter your number:\"))\n",
    "        if(i%2==0):\n",
    "            print(i,\"is even\")\n",
    "            message=\"the number is even\"\n",
    "        else:\n",
    "            print(i,\"is odd\")\n",
    "            message=\"the number is odd\"\n",
    "        "
   ]
  },
  {
   "cell_type": "code",
   "execution_count": 7,
   "metadata": {},
   "outputs": [
    {
     "name": "stdout",
     "output_type": "stream",
     "text": [
      "Enter your number:52452\n",
      "52452 is even\n"
     ]
    }
   ],
   "source": [
    "ODDEVEN.OddEven()"
   ]
  },
  {
   "cell_type": "code",
   "execution_count": 8,
   "metadata": {},
   "outputs": [],
   "source": [
    "class ElegiblityForMarriage():\n",
    "    def Eligiblity():\n",
    "        age=int(input(\"Enter you Age:\"))\n",
    "        s=input(\"Enter your Gender (MALE/FEMALE):\")\n",
    "        if ((s==\"MALE\")and(age>20)):\n",
    "            print(\"You are eligible\")\n",
    "            Status=\"yes\"\n",
    "        elif ((s==\"FEMALE\") and (age>17)):\n",
    "            print(\"You are eligible\")\n",
    "            Status=\"yes\"\n",
    "        else:\n",
    "            print(\"you are not eligible\")\n",
    "            Status=\"No\"\n",
    "        return Status"
   ]
  },
  {
   "cell_type": "code",
   "execution_count": 9,
   "metadata": {},
   "outputs": [
    {
     "name": "stdout",
     "output_type": "stream",
     "text": [
      "Enter you Age:20\n",
      "Enter your Gender (MALE/FEMALE):MALE\n",
      "you are not eligible\n"
     ]
    },
    {
     "data": {
      "text/plain": [
       "'No'"
      ]
     },
     "execution_count": 9,
     "metadata": {},
     "output_type": "execute_result"
    }
   ],
   "source": [
    "ElegiblityForMarriage.Eligiblity()"
   ]
  },
  {
   "cell_type": "code",
   "execution_count": 10,
   "metadata": {},
   "outputs": [],
   "source": [
    "class FindPercent():\n",
    "    def Percentage():\n",
    "        S1=int(input(\"Subject1=\"))\n",
    "        S2=int(input(\"Subject2=\"))\n",
    "        S3=int(input(\"Subject3=\"))\n",
    "        S4=int(input(\"Subject4=\"))\n",
    "        S5=int(input(\"Subject5=\"))\n",
    "        ST=S1+S2+S3+S4+S5\n",
    "        print(\"Total=\",ST)\n",
    "        ST1=(ST/float(5))\n",
    "        print(\"percentage:\",ST1)"
   ]
  },
  {
   "cell_type": "code",
   "execution_count": 11,
   "metadata": {},
   "outputs": [
    {
     "name": "stdout",
     "output_type": "stream",
     "text": [
      "Subject1=98\n",
      "Subject2=87\n",
      "Subject3=95\n",
      "Subject4=95\n",
      "Subject5=93\n",
      "Total= 468\n",
      "percentage: 93.6\n"
     ]
    }
   ],
   "source": [
    "FindPercent.Percentage()"
   ]
  },
  {
   "cell_type": "code",
   "execution_count": 12,
   "metadata": {},
   "outputs": [],
   "source": [
    "class Triangle():\n",
    "    def AreaPeriM():\n",
    "        h=int(input(\"Height:\"))\n",
    "        b=int(input(\"Breadth:\"))\n",
    "        print(\"Area formula :(Height*Breadth)/2\")\n",
    "        AreaT=(h*b)/2\n",
    "        print(\"Area of Triangle:\",AreaT)\n",
    "        H1=int(input(\"Height1:\"))\n",
    "        H2=int(input(\"Height2:\"))\n",
    "        Br=int(input(\"Breadth:\"))\n",
    "        print(\"Perimeter formula: Height1+Height2+Breadth\")\n",
    "        PT=H1+H2+Br\n",
    "        print(\"Perimeter of Triangle:\",PT)"
   ]
  },
  {
   "cell_type": "code",
   "execution_count": null,
   "metadata": {},
   "outputs": [],
   "source": []
  }
 ],
 "metadata": {
  "kernelspec": {
   "display_name": "Python 3",
   "language": "python",
   "name": "python3"
  },
  "language_info": {
   "codemirror_mode": {
    "name": "ipython",
    "version": 3
   },
   "file_extension": ".py",
   "mimetype": "text/x-python",
   "name": "python",
   "nbconvert_exporter": "python",
   "pygments_lexer": "ipython3",
   "version": "3.7.4"
  }
 },
 "nbformat": 4,
 "nbformat_minor": 2
}
