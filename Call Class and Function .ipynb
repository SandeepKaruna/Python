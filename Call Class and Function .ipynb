{
 "cells": [
  {
   "cell_type": "code",
   "execution_count": 1,
   "metadata": {},
   "outputs": [],
   "source": [
    "from Assignment import MulAssignments"
   ]
  },
  {
   "cell_type": "code",
   "execution_count": 2,
   "metadata": {},
   "outputs": [
    {
     "name": "stdout",
     "output_type": "stream",
     "text": [
      "enter your weight(Kgs):67\n",
      "enter your height(Cms):160\n",
      "overweight!\n"
     ]
    }
   ],
   "source": [
    "MulAssignments.BMI()"
   ]
  },
  {
   "cell_type": "code",
   "execution_count": 3,
   "metadata": {},
   "outputs": [
    {
     "name": "stdout",
     "output_type": "stream",
     "text": [
      "Height:4\n",
      "Breadth:5\n",
      "Area formula :(Height*Breadth)/2\n",
      "Area of Triangle: 10.0\n",
      "Height1:4\n",
      "Height2:5\n",
      "Breadth:7\n",
      "Perimeter formula: Height1+Height2+Breadth\n",
      "Perimeter of Triangle: 16\n"
     ]
    }
   ],
   "source": [
    "MulAssignments.Triangle()"
   ]
  },
  {
   "cell_type": "code",
   "execution_count": null,
   "metadata": {},
   "outputs": [],
   "source": []
  }
 ],
 "metadata": {
  "kernelspec": {
   "display_name": "Python 3",
   "language": "python",
   "name": "python3"
  },
  "language_info": {
   "codemirror_mode": {
    "name": "ipython",
    "version": 3
   },
   "file_extension": ".py",
   "mimetype": "text/x-python",
   "name": "python",
   "nbconvert_exporter": "python",
   "pygments_lexer": "ipython3",
   "version": "3.7.4"
  }
 },
 "nbformat": 4,
 "nbformat_minor": 2
}
