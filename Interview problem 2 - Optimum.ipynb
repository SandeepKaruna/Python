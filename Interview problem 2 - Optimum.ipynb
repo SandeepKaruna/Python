{
 "cells": [
  {
   "cell_type": "code",
   "execution_count": 29,
   "metadata": {},
   "outputs": [
    {
     "name": "stdout",
     "output_type": "stream",
     "text": [
      "Enter your mrmner ID:22\n",
      "Enter your month date of travel: (DD-MM-YYY)23-01-2023\n",
      "Enter your trip type: (S fro single or R for return)R\n",
      "Enter your return date: (DD-MM-YYYY)23-02-2023\n",
      "Are you a VIP Member: (Y/N)Y\n"
     ]
    },
    {
     "data": {
      "text/plain": [
       "416.0"
      ]
     },
     "execution_count": 29,
     "metadata": {},
     "output_type": "execute_result"
    }
   ],
   "source": [
    "#single400, return 650\n",
    "#discount in jan 18% for single and 38% for round, return other than jan 30%\n",
    "#Mem_ID, from_date,End_date, Trip_type. VIP_member, Ticket_price\n",
    "\n",
    "MID=int(input(\"Enter your mrmner ID:\"))\n",
    "FrmDt=str(input(\"Enter your month date of travel: (DD-MM-YYY)\"))\n",
    "TrpT=str(input(\"Enter your trip type: (S fro single or R for return)\"))\n",
    "if TrpT=='R':\n",
    "    EDt=str(input(\"Enter your return date: (DD-MM-YYYY)\"))\n",
    "\n",
    "VM=str(input(\"Are you a VIP Member: (Y/N)\"))\n",
    "\n",
    "class Discount:\n",
    "    def triptype(a,b,c):\n",
    "        Fmon=FrmDt.split('-')[1]\n",
    "        Emon=EDt.split('-')[1]\n",
    "        if TrpT=='R' and Fmon=='01'and Emon=='01':\n",
    "            disT=0.38\n",
    "            return disT\n",
    "        elif TrpT=='R' and Fmon=='01' and Emon!='01':\n",
    "            disT=0.30\n",
    "        elif TrpT=='S' and Fmon=='01':\n",
    "            disT=0.18\n",
    "        return disT\n",
    "    def VMDis(c):\n",
    "        if VM=='Y':\n",
    "            VD=0.06\n",
    "        return VD\n",
    "def TickerP():       \n",
    " D1=Discount.triptype(FrmDt,EDt,TrpT)\n",
    " D2=Discount.VMDis(VM)\n",
    " if TrpT=='S':\n",
    "        Ticket_Price=400 *(1-(D1+D2))  \n",
    " else:\n",
    "        Ticket_Price=650*(1-(D1+D2))\n",
    " return Ticket_Price\n",
    "TickerP()"
   ]
  },
  {
   "cell_type": "code",
   "execution_count": null,
   "metadata": {},
   "outputs": [],
   "source": []
  }
 ],
 "metadata": {
  "kernelspec": {
   "display_name": "Python 3",
   "language": "python",
   "name": "python3"
  },
  "language_info": {
   "codemirror_mode": {
    "name": "ipython",
    "version": 3
   },
   "file_extension": ".py",
   "mimetype": "text/x-python",
   "name": "python",
   "nbconvert_exporter": "python",
   "pygments_lexer": "ipython3",
   "version": "3.7.4"
  }
 },
 "nbformat": 4,
 "nbformat_minor": 2
}
