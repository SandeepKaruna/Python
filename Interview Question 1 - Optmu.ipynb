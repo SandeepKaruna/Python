{
 "cells": [
  {
   "cell_type": "code",
   "execution_count": 44,
   "metadata": {},
   "outputs": [
    {
     "name": "stdout",
     "output_type": "stream",
     "text": [
      "Enter Total Petrol Expense (SGD): 100\n",
      "Enter Other Expense (SGD):20\n"
     ]
    },
    {
     "data": {
      "text/plain": [
       "7.0"
      ]
     },
     "execution_count": 44,
     "metadata": {},
     "output_type": "execute_result"
    }
   ],
   "source": [
    "#To calc\n",
    "TPE=int(input(\"Enter Total Petrol Expense (SGD): \"))\n",
    "TOE=int(input(\"Enter Other Expense (SGD):\"))\n",
    "TS=TPE+TOE\n",
    "class Rewards:\n",
    "    \n",
    "    def Petrol(TPE):\n",
    "        if TPE <100:\n",
    "            pReward=TPE*0.01\n",
    "        else:\n",
    "            pReward=TPE*0.03\n",
    "        return pReward\n",
    "\n",
    "    def otherR(TOE):\n",
    "        oReward=TOE*0.02\n",
    "        return oReward\n",
    "    \n",
    "    def TotalSpending(TS):\n",
    "        sReward=TS*0.03\n",
    "        return sReward\n",
    "\n",
    "def TotalRewards():\n",
    "    tpe=Rewards.Petrol(TPE)\n",
    "    toe=Rewards.otherR(TOE)\n",
    "    ts=Rewards.TotalSpending(TS)\n",
    "    Total=tpe+toe+ts\n",
    "    \n",
    "    if Total<80:\n",
    "            Amount_To_Be_Paid=Total\n",
    "    else:\n",
    "                Amount_To_Be_Paid=80\n",
    "    return Amount_To_Be_Paid\n",
    "\n",
    "TotalRewards()"
   ]
  },
  {
   "cell_type": "code",
   "execution_count": null,
   "metadata": {},
   "outputs": [],
   "source": []
  },
  {
   "cell_type": "code",
   "execution_count": null,
   "metadata": {},
   "outputs": [],
   "source": []
  },
  {
   "cell_type": "code",
   "execution_count": null,
   "metadata": {},
   "outputs": [],
   "source": []
  },
  {
   "cell_type": "code",
   "execution_count": null,
   "metadata": {},
   "outputs": [],
   "source": []
  }
 ],
 "metadata": {
  "kernelspec": {
   "display_name": "Python 3",
   "language": "python",
   "name": "python3"
  },
  "language_info": {
   "codemirror_mode": {
    "name": "ipython",
    "version": 3
   },
   "file_extension": ".py",
   "mimetype": "text/x-python",
   "name": "python",
   "nbconvert_exporter": "python",
   "pygments_lexer": "ipython3",
   "version": "3.7.4"
  }
 },
 "nbformat": 4,
 "nbformat_minor": 2
}
