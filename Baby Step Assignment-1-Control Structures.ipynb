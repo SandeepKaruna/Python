{
 "cells": [
  {
   "cell_type": "code",
   "execution_count": 2,
   "metadata": {},
   "outputs": [
    {
     "name": "stdout",
     "output_type": "stream",
     "text": [
      "Welcome to Assignment-1\n"
     ]
    }
   ],
   "source": [
    "print(\"Welcome to Assignment-1\")"
   ]
  },
  {
   "cell_type": "code",
   "execution_count": 3,
   "metadata": {},
   "outputs": [
    {
     "name": "stdout",
     "output_type": "stream",
     "text": [
      "numb1= 10\n",
      "num2= 30\n",
      "add= 40\n"
     ]
    }
   ],
   "source": [
    "print(\"numb1= 10\")\n",
    "print(\"num2= 30\")\n",
    "print(\"add= 40\")"
   ]
  },
  {
   "cell_type": "code",
   "execution_count": 4,
   "metadata": {},
   "outputs": [
    {
     "name": "stdout",
     "output_type": "stream",
     "text": [
      "numb1= 10\n",
      "numb2= 30\n",
      "add= 40\n"
     ]
    }
   ],
   "source": [
    "a=10\n",
    "b=30\n",
    "print(\"numb1=\",a)\n",
    "print(\"numb2=\",b)\n",
    "print(\"add=\",a+b)"
   ]
  },
  {
   "cell_type": "code",
   "execution_count": 6,
   "metadata": {},
   "outputs": [
    {
     "name": "stdout",
     "output_type": "stream",
     "text": [
      "enter your weight(Kgs):67\n",
      "enter your height(Cms):165\n",
      "Normal\n"
     ]
    }
   ],
   "source": [
    "w=int(input(\"enter your weight(Kgs):\"))\n",
    "h=int(input(\"enter your height(Cms):\"))\n",
    "y=h/100\n",
    "bmi=w/(y*y)\n",
    "if(bmi<18.5):\n",
    "    print(\"Below Normal\")\n",
    "elif(bmi<25):\n",
    "    print(\"Normal\")\n",
    "elif(bmi<30):\n",
    "    print(\"overweight!\")\n",
    "else:\n",
    "    print(\"You have obesity consult a doctor\")"
   ]
  },
  {
   "cell_type": "code",
   "execution_count": null,
   "metadata": {},
   "outputs": [],
   "source": []
  }
 ],
 "metadata": {
  "kernelspec": {
   "display_name": "Python 3",
   "language": "python",
   "name": "python3"
  },
  "language_info": {
   "codemirror_mode": {
    "name": "ipython",
    "version": 3
   },
   "file_extension": ".py",
   "mimetype": "text/x-python",
   "name": "python",
   "nbconvert_exporter": "python",
   "pygments_lexer": "ipython3",
   "version": "3.7.4"
  }
 },
 "nbformat": 4,
 "nbformat_minor": 2
}
